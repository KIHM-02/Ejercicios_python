{
 "cells": [
  {
   "cell_type": "markdown",
   "metadata": {},
   "source": [
    "## Ejercicio1: Crear y usar listas de Python\n",
    "\n",
    "Las listas permiten almacenar varios valores en una sola variable. Comenzarás un proyecto sobre información planetaria creando una lista de planetas."
   ]
  },
  {
   "cell_type": "code",
   "execution_count": 11,
   "metadata": {},
   "outputs": [
    {
     "name": "stdout",
     "output_type": "stream",
     "text": [
      "Existen 9 planetas\n",
      "El ultimo planeta de la lista es Pluton\n"
     ]
    }
   ],
   "source": [
    "planets = ['Mercurio', 'Venus', 'Tierra', 'Marte', 'Jupiter', 'Saturno', 'Urano', 'Neptuno']\n",
    "planets.append('Pluton')\n",
    "\n",
    "print(\"\"\"Existen %i planetas\n",
    "El ultimo planeta de la lista es %s\"\"\" % (len(planets), planets[-1]))\n",
    "\n"
   ]
  },
  {
   "cell_type": "markdown",
   "metadata": {},
   "source": [
    "\n",
    "## Ejercicio 2: Trabajando con datos de una lista\n",
    "\n",
    "Usar slices para recuperar partes de una lista\n",
    "\n",
    "Es posible que debas trabajar con diferentes secciones de una lista. En nuestro ejemplo, queremos mostrar planetas más cerca y más lejos del sol de un planeta que el usuario ingresa por teclado."
   ]
  },
  {
   "cell_type": "code",
   "execution_count": 8,
   "metadata": {},
   "outputs": [
    {
     "name": "stdout",
     "output_type": "stream",
     "text": [
      "Planeta escogido:  Tierra\n",
      "Los planetas cercas del sol son:  ['Mercurio', 'Venus']\n",
      "Los planetas lejos del sol son:  ['Marte', 'Jupiter', 'Saturno', 'Neptuno']\n"
     ]
    }
   ],
   "source": [
    "planets = ['Mercurio', 'Venus', 'Tierra', 'Marte', 'Jupiter', 'Saturno', 'Neptuno']\n",
    "#distance = [57.91, 108.2, 149.6, 2279, 7785, 1434, 4495]\n",
    "\n",
    "planetaEscogido = input(\"Ingresa un planeta, debe tener la primera letra en mayusculas: \")\n",
    "ubicacion = planets.index(planetaEscogido)\n",
    "\n",
    "print(\"Planeta escogido: \", planetaEscogido)\n",
    "\n",
    "#Planetas cercanos al sol\n",
    "# La ubicacion funciona como punto medio\n",
    "cercasSol = planets[:ubicacion]\n",
    "print(\"Los planetas cercas del sol son: \", cercasSol)\n",
    "\n",
    "#Planetas lejos del sol\n",
    "lejosSol = planets[ubicacion+1:]\n",
    "print(\"Los planetas lejos del sol son: \", lejosSol)\n",
    "\n",
    "\n",
    "\n"
   ]
  }
 ],
 "metadata": {
  "interpreter": {
   "hash": "cfcfbbd76e88e95dc35e2ca9edf0c1e882d0553cc29bc4cac8c0f4eabeb0ecb9"
  },
  "kernelspec": {
   "display_name": "Python 3.10.2 64-bit",
   "language": "python",
   "name": "python3"
  },
  "language_info": {
   "codemirror_mode": {
    "name": "ipython",
    "version": 3
   },
   "file_extension": ".py",
   "mimetype": "text/x-python",
   "name": "python",
   "nbconvert_exporter": "python",
   "pygments_lexer": "ipython3",
   "version": "3.10.2"
  },
  "orig_nbformat": 4
 },
 "nbformat": 4,
 "nbformat_minor": 2
}
