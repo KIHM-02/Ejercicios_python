{
 "cells": [
  {
   "cell_type": "markdown",
   "metadata": {},
   "source": [
    "# Ejercicio: Uso de funciones en Python"
   ]
  },
  {
   "cell_type": "markdown",
   "metadata": {},
   "source": [
    "## Ejercicio 1: Trabajar con argumentos en funciones\n",
    "\n",
    "Los argumentos requeridos en las funciones se utilizan cuando las funciones necesitan que esos argumentos funcionen correctamente. En este ejercicio, construirás un informe de combustible que requiere información de varias ubicaciones de combustible en todo el cohete.\n",
    "\n",
    "Comienza por crear una función que necesite tres lecturas de combustible y devuelva un informe del promedio del combustible:\n"
   ]
  },
  {
   "cell_type": "code",
   "execution_count": null,
   "metadata": {},
   "outputs": [],
   "source": [
    "def informes(comb1, comb2, comb3):\n",
    "    suma = comb1 + comb2 + comb3\n",
    "    print(f\"\"\"Combustible del tanque primario: {combustible1}\n",
    "Combustible del tanque secundario: {combustible2}\n",
    "Combustible del tanque terceario: {combustible3}\n",
    "Promedio total del combustible: {promedio(suma)}\"\"\")\n",
    "    return resultado\n",
    "\n",
    "\n",
    "\n",
    "def promedio (suma):\n",
    "    prom = suma/3\n",
    "    return prom\n",
    "\n",
    "\n",
    "\n",
    "combustible1 = float(input(\"Ingrese el primer combustible\"))\n",
    "combustible2 = float(input(\"Ingrese el primer combustible\"))\n",
    "combustible3 = float(input(\"Ingrese el primer combustible\"))\n",
    "\n",
    "informes(combustible1, combustible2, combustible3)"
   ]
  },
  {
   "cell_type": "markdown",
   "metadata": {},
   "source": [
    "# Ejercicio 2: Trabajo con argumentos de palabra clave"
   ]
  },
  {
   "cell_type": "markdown",
   "metadata": {},
   "source": [
    "## Ejercicio : Trabajar con argumentos de palabras clave en funciones\n",
    "\n",
    "\n",
    "En este ejercicio, construirás un informe de cohete que requiere varias piezas de información, como el tiempo hasta el destino, el combustible a la izquierda y el nombre del destino. Comienza por crear una función que creará un informe preciso de la misión:\n"
   ]
  },
  {
   "cell_type": "code",
   "execution_count": 9,
   "metadata": {},
   "outputs": [
    {
     "name": "stdout",
     "output_type": "stream",
     "text": [
      "Destino del vuelo:  Luna\n",
      "prelanzamiento : 01:57\n",
      "tiempo : 02:00\n",
      "tanque1 : 80\n",
      "tanque2 : 70\n"
     ]
    }
   ],
   "source": [
    "def informe (*tiempo, destino, **tanques):\n",
    "    print(\"Destino del vuelo: \", destino)\n",
    "\n",
    "    for clave, dato in tiempo:\n",
    "        print(f\"\"\"{clave} : {dato}\n",
    "        {clave} : {dato}\"\"\")\n",
    "\n",
    "    for clave, dato in tanques.items():\n",
    "        print(f\"\"\"{clave} : {dato}\"\"\")\n",
    "\n",
    "\n",
    "informe(prelanzamiento = '01:57', tiempo = '02:00', destino = 'Luna', tanque1 = 80, tanque2 = 70)"
   ]
  }
 ],
 "metadata": {
  "interpreter": {
   "hash": "cfcfbbd76e88e95dc35e2ca9edf0c1e882d0553cc29bc4cac8c0f4eabeb0ecb9"
  },
  "kernelspec": {
   "display_name": "Python 3.10.2 64-bit",
   "language": "python",
   "name": "python3"
  },
  "language_info": {
   "codemirror_mode": {
    "name": "ipython",
    "version": 3
   },
   "file_extension": ".py",
   "mimetype": "text/x-python",
   "name": "python",
   "nbconvert_exporter": "python",
   "pygments_lexer": "ipython3",
   "version": "3.10.2"
  },
  "orig_nbformat": 4
 },
 "nbformat": 4,
 "nbformat_minor": 2
}
